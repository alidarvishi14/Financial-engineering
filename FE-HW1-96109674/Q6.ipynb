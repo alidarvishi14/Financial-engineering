{
 "cells": [
  {
   "cell_type": "code",
   "execution_count": 115,
   "metadata": {},
   "outputs": [],
   "source": [
    "import numpy as np\n",
    "from matplotlib import pyplot as plt"
   ]
  },
  {
   "cell_type": "code",
   "execution_count": 116,
   "metadata": {},
   "outputs": [],
   "source": [
    "size = 1000\n",
    "rf = np.random.random(size)*0.03+0.07\n",
    "S0 = np.random.normal(46,9,size)\n",
    "F0 = 52\n",
    "t = np.random.randint(0,3,size)/12\n",
    "t = 1.5*t*(1+t)+3"
   ]
  },
  {
   "cell_type": "markdown",
   "metadata": {},
   "source": [
    "## a"
   ]
  },
  {
   "cell_type": "code",
   "execution_count": 117,
   "metadata": {},
   "outputs": [
    {
     "data": {
      "image/png": "[encoded data removed]",
      "text/plain": [
       "<Figure size 432x288 with 1 Axes>"
      ]
     },
     "metadata": {
      "needs_background": "light"
     },
     "output_type": "display_data"
    }
   ],
   "source": [
    "plt.hist(S0,bins=35);"
   ]
  },
  {
   "cell_type": "markdown",
   "metadata": {},
   "source": [
    "## b"
   ]
  },
  {
   "cell_type": "code",
   "execution_count": 118,
   "metadata": {},
   "outputs": [
    {
     "data": {
      "image/png": "[encoded data removed]",
      "text/plain": [
       "<Figure size 432x288 with 1 Axes>"
      ]
     },
     "metadata": {
      "needs_background": "light"
     },
     "output_type": "display_data"
    }
   ],
   "source": [
    "profit = abs(F0-S0*np.exp(rf*t))\n",
    "plt.hist(profit,bins=25);"
   ]
  },
  {
   "cell_type": "markdown",
   "metadata": {},
   "source": [
    "## c"
   ]
  },
  {
   "cell_type": "code",
   "execution_count": 120,
   "metadata": {},
   "outputs": [
    {
     "name": "stdout",
     "output_type": "stream",
     "text": [
      "short sell in spot and invest 48.73\n",
      "buy at expiration date for 52 $ and give back security and save 8.79 $\n"
     ]
    }
   ],
   "source": [
    "if(F0<S0[-1]*np.exp(rf[-1]*t[-1])):\n",
    "    print(\"short sell in spot and invest\",round(S0[-1],2));\n",
    "    print(\"buy at expiration date for\",F0,\"$ and give back security and save\"\n",
    "          ,round(S0[-1]*np.exp(rf[-1]*t[-1])-F0,2),\"$\")\n",
    "else:\n",
    "    print(\"get loan and buy in spot for\",round(S0[-1],2));\n",
    "    print(\"sell at expiration date for\",F0,\"$ and give back loan and save\"\n",
    "          ,round(-S0[-1]*np.exp(rf[-1]*t[-1])+F0,2),\"$\")"
   ]
  }
 ],
 "metadata": {
  "kernelspec": {
   "display_name": "Python 3",
   "language": "python",
   "name": "python3"
  },
  "language_info": {
   "codemirror_mode": {
    "name": "ipython",
    "version": 3
   },
   "file_extension": ".py",
   "mimetype": "text/x-python",
   "name": "python",
   "nbconvert_exporter": "python",
   "pygments_lexer": "ipython3",
   "version": "3.7.3"
  }
 },
 "nbformat": 4,
 "nbformat_minor": 2
}
